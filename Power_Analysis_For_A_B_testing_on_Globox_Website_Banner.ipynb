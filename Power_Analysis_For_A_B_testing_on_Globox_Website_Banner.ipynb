{
  "nbformat": 4,
  "nbformat_minor": 0,
  "metadata": {
    "colab": {
      "provenance": [],
      "authorship_tag": "ABX9TyOhvIpJf/x8NwZ6QY1nM0xe",
      "include_colab_link": true
    },
    "kernelspec": {
      "name": "python3",
      "display_name": "Python 3"
    },
    "language_info": {
      "name": "python"
    }
  },
  "cells": [
    {
      "cell_type": "markdown",
      "metadata": {
        "id": "view-in-github",
        "colab_type": "text"
      },
      "source": [
        "<a href=\"https://colab.research.google.com/github/Tada-Disney/Portfolio-/blob/main/Power_Analysis_For_A_B_testing_on_Globox_Website_Banner.ipynb\" target=\"_parent\"><img src=\"https://colab.research.google.com/assets/colab-badge.svg\" alt=\"Open In Colab\"/></a>"
      ]
    },
    {
      "cell_type": "code",
      "source": [
        "import numpy as np\n",
        "import statsmodels.stats.power as smp\n",
        "import pandas as pd\n",
        "df = pd.read_csv('/content/Globox_dataset.csv')\n",
        "\n",
        "\n",
        "sample1 = df[df['group']== 'A']['total_spent']\n",
        "sample2 = df[df['group']== 'B']['total_spent']\n",
        "\n",
        "# Calculate Cohen's d\n",
        "mean_diff = np.mean(sample1) - np.mean(sample2)\n",
        "pooled_std = np.sqrt((np.std(sample1, ddof=1)**2 + np.std(sample2, ddof=1)**2) / 2)\n",
        "cohens_d = mean_diff / pooled_std\n",
        "\n",
        "# Parameters for power calculation\n",
        "alpha = 0.05\n",
        "nobs1 = len(sample1)\n",
        "nobs2 = len(sample2)\n",
        "ratio = nobs2 / nobs1\n",
        "\n",
        "# Calculate power\n",
        "power = smp.tt_ind_solve_power(effect_size=cohens_d, nobs1=nobs1, alpha=alpha, ratio=ratio, alternative='two-sided')\n",
        "\n",
        "print(\"Cohen's d:\", cohens_d)\n",
        "print(\"Statistical Power:\", power)"
      ],
      "metadata": {
        "colab": {
          "base_uri": "https://localhost:8080/"
        },
        "id": "yuJkvftzdXMd",
        "outputId": "7072decd-791c-4c6f-d795-e665062e4822"
      },
      "execution_count": null,
      "outputs": [
        {
          "output_type": "stream",
          "name": "stdout",
          "text": [
            "Cohen's d: -0.0006367339875465859\n",
            "Statistical Power: 0.05056841351202901\n"
          ]
        }
      ]
    }
  ]
}